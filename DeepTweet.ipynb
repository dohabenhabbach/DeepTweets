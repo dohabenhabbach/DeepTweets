{
 "cells": [
  {
   "cell_type": "markdown",
   "id": "81fbe958",
   "metadata": {},
   "source": [
    "<h1 align='center' style=\"color:red\"> DeepTweets Challenge </h1>\n",
    "<h1 align='center' > DOHA BENHABBACH</h1>\n",
    "<h1 align='center' > TEAM:PGX- DS-T706</h1>\n",
    "<h1 align='center' > USERNAME:ORCL-DS-APP0706</h1>\n",
    "\n"
   ]
  },
  {
   "cell_type": "markdown",
   "id": "08098a30",
   "metadata": {},
   "source": [
    "### Approach\n",
    "The task at hand involves assigning labels to new tweets based on a pre-existing dataset of categorized tweets. With only two labels available, the classification is binary. However, it's important to note that some tweets may not fit either category and lead to incorrect classification. To mitigate this, a set of criteria must be established to determine what constitutes a valid tweet, allowing it to be accurately labeled. While each tweet is essentially a string of text, it may possess certain attributes that provide additional context and meaning. Furthermore, the tweet's category, which itself is a property of the tweet, reflects the importance of its attributes."
   ]
  },
  {
   "cell_type": "markdown",
   "id": "15ce41be",
   "metadata": {},
   "source": [
    "### Importing libraries"
   ]
  },
  {
   "cell_type": "code",
   "execution_count": 1,
   "id": "ad9f366a",
   "metadata": {},
   "outputs": [
    {
     "name": "stderr",
     "output_type": "stream",
     "text": [
      "[nltk_data] Downloading package stopwords to\n",
      "[nltk_data]     C:\\Users\\lenovo\\AppData\\Roaming\\nltk_data...\n",
      "[nltk_data]   Package stopwords is already up-to-date!\n"
     ]
    },
    {
     "data": {
      "text/plain": [
       "True"
      ]
     },
     "execution_count": 1,
     "metadata": {},
     "output_type": "execute_result"
    }
   ],
   "source": [
    "import pandas as pd\n",
    "import numpy as np\n",
    "import re\n",
    "import nltk\n",
    "from nltk.corpus import stopwords\n",
    "from sklearn.feature_extraction.text import CountVectorizer, TfidfVectorizer, HashingVectorizer\n",
    "from sklearn.model_selection import train_test_split, GridSearchCV\n",
    "from sklearn.ensemble import RandomForestClassifier, VotingClassifier\n",
    "from sklearn.naive_bayes import MultinomialNB\n",
    "from sklearn.linear_model import LogisticRegression\n",
    "from sklearn.svm import SVC\n",
    "from sklearn.metrics import accuracy_score\n",
    "from sklearn.pipeline import Pipeline\n",
    "from sklearn.feature_selection import SelectKBest, chi2\n",
    "from sklearn.feature_extraction.text import CountVectorizer, TfidfTransformer\n",
    "import matplotlib as plt\n",
    "import seaborn as sns\n",
    "%matplotlib inline\n",
    "\n",
    "# download stopwords\n",
    "nltk.download('stopwords')\n"
   ]
  },
  {
   "cell_type": "code",
   "execution_count": 2,
   "id": "3dd03f52",
   "metadata": {},
   "outputs": [],
   "source": [
    "import matplotlib as plt\n",
    "import seaborn as sns\n",
    "%matplotlib inline"
   ]
  },
  {
   "cell_type": "markdown",
   "id": "09973f13",
   "metadata": {},
   "source": [
    "### Loading train and test data"
   ]
  },
  {
   "cell_type": "code",
   "execution_count": 3,
   "id": "69560c22",
   "metadata": {},
   "outputs": [],
   "source": [
    "# load the data\n",
    "train_df = pd.read_csv('train.csv')\n",
    "test_df = pd.read_csv('test.csv')"
   ]
  },
  {
   "cell_type": "code",
   "execution_count": 4,
   "id": "a00cb746",
   "metadata": {},
   "outputs": [
    {
     "data": {
      "text/html": [
       "<div>\n",
       "<style scoped>\n",
       "    .dataframe tbody tr th:only-of-type {\n",
       "        vertical-align: middle;\n",
       "    }\n",
       "\n",
       "    .dataframe tbody tr th {\n",
       "        vertical-align: top;\n",
       "    }\n",
       "\n",
       "    .dataframe thead th {\n",
       "        text-align: right;\n",
       "    }\n",
       "</style>\n",
       "<table border=\"1\" class=\"dataframe\">\n",
       "  <thead>\n",
       "    <tr style=\"text-align: right;\">\n",
       "      <th></th>\n",
       "      <th>TweetId</th>\n",
       "      <th>Label</th>\n",
       "      <th>TweetText</th>\n",
       "    </tr>\n",
       "  </thead>\n",
       "  <tbody>\n",
       "    <tr>\n",
       "      <th>0</th>\n",
       "      <td>304271250237304833</td>\n",
       "      <td>Politics</td>\n",
       "      <td>'#SecKerry: The value of the @StateDept and @U...</td>\n",
       "    </tr>\n",
       "    <tr>\n",
       "      <th>1</th>\n",
       "      <td>304834304222064640</td>\n",
       "      <td>Politics</td>\n",
       "      <td>'@rraina1481 I fear so'</td>\n",
       "    </tr>\n",
       "    <tr>\n",
       "      <th>2</th>\n",
       "      <td>303568995880144898</td>\n",
       "      <td>Sports</td>\n",
       "      <td>'Watch video highlights of the #wwc13 final be...</td>\n",
       "    </tr>\n",
       "    <tr>\n",
       "      <th>3</th>\n",
       "      <td>304366580664528896</td>\n",
       "      <td>Sports</td>\n",
       "      <td>'RT @chelscanlan: At Nitro Circus at #AlbertPa...</td>\n",
       "    </tr>\n",
       "    <tr>\n",
       "      <th>4</th>\n",
       "      <td>296770931098009601</td>\n",
       "      <td>Sports</td>\n",
       "      <td>'@cricketfox Always a good thing. Thanks for t...</td>\n",
       "    </tr>\n",
       "  </tbody>\n",
       "</table>\n",
       "</div>"
      ],
      "text/plain": [
       "              TweetId     Label  \\\n",
       "0  304271250237304833  Politics   \n",
       "1  304834304222064640  Politics   \n",
       "2  303568995880144898    Sports   \n",
       "3  304366580664528896    Sports   \n",
       "4  296770931098009601    Sports   \n",
       "\n",
       "                                           TweetText  \n",
       "0  '#SecKerry: The value of the @StateDept and @U...  \n",
       "1                            '@rraina1481 I fear so'  \n",
       "2  'Watch video highlights of the #wwc13 final be...  \n",
       "3  'RT @chelscanlan: At Nitro Circus at #AlbertPa...  \n",
       "4  '@cricketfox Always a good thing. Thanks for t...  "
      ]
     },
     "execution_count": 4,
     "metadata": {},
     "output_type": "execute_result"
    }
   ],
   "source": [
    "train_df.head()"
   ]
  },
  {
   "cell_type": "code",
   "execution_count": 5,
   "id": "d1f53312",
   "metadata": {},
   "outputs": [
    {
     "data": {
      "text/html": [
       "<div>\n",
       "<style scoped>\n",
       "    .dataframe tbody tr th:only-of-type {\n",
       "        vertical-align: middle;\n",
       "    }\n",
       "\n",
       "    .dataframe tbody tr th {\n",
       "        vertical-align: top;\n",
       "    }\n",
       "\n",
       "    .dataframe thead th {\n",
       "        text-align: right;\n",
       "    }\n",
       "</style>\n",
       "<table border=\"1\" class=\"dataframe\">\n",
       "  <thead>\n",
       "    <tr style=\"text-align: right;\">\n",
       "      <th></th>\n",
       "      <th>TweetId</th>\n",
       "    </tr>\n",
       "  </thead>\n",
       "  <tbody>\n",
       "    <tr>\n",
       "      <th>count</th>\n",
       "      <td>6.525000e+03</td>\n",
       "    </tr>\n",
       "    <tr>\n",
       "      <th>mean</th>\n",
       "      <td>2.887131e+17</td>\n",
       "    </tr>\n",
       "    <tr>\n",
       "      <th>std</th>\n",
       "      <td>5.139819e+16</td>\n",
       "    </tr>\n",
       "    <tr>\n",
       "      <th>min</th>\n",
       "      <td>2.390931e+10</td>\n",
       "    </tr>\n",
       "    <tr>\n",
       "      <th>25%</th>\n",
       "      <td>2.941380e+17</td>\n",
       "    </tr>\n",
       "    <tr>\n",
       "      <th>50%</th>\n",
       "      <td>3.025319e+17</td>\n",
       "    </tr>\n",
       "    <tr>\n",
       "      <th>75%</th>\n",
       "      <td>3.053242e+17</td>\n",
       "    </tr>\n",
       "    <tr>\n",
       "      <th>max</th>\n",
       "      <td>3.068341e+17</td>\n",
       "    </tr>\n",
       "  </tbody>\n",
       "</table>\n",
       "</div>"
      ],
      "text/plain": [
       "            TweetId\n",
       "count  6.525000e+03\n",
       "mean   2.887131e+17\n",
       "std    5.139819e+16\n",
       "min    2.390931e+10\n",
       "25%    2.941380e+17\n",
       "50%    3.025319e+17\n",
       "75%    3.053242e+17\n",
       "max    3.068341e+17"
      ]
     },
     "execution_count": 5,
     "metadata": {},
     "output_type": "execute_result"
    }
   ],
   "source": [
    "train_df.describe()"
   ]
  },
  {
   "cell_type": "code",
   "execution_count": 6,
   "id": "03143489",
   "metadata": {},
   "outputs": [
    {
     "data": {
      "text/html": [
       "<div>\n",
       "<style scoped>\n",
       "    .dataframe tbody tr th:only-of-type {\n",
       "        vertical-align: middle;\n",
       "    }\n",
       "\n",
       "    .dataframe tbody tr th {\n",
       "        vertical-align: top;\n",
       "    }\n",
       "\n",
       "    .dataframe thead tr th {\n",
       "        text-align: left;\n",
       "    }\n",
       "\n",
       "    .dataframe thead tr:last-of-type th {\n",
       "        text-align: right;\n",
       "    }\n",
       "</style>\n",
       "<table border=\"1\" class=\"dataframe\">\n",
       "  <thead>\n",
       "    <tr>\n",
       "      <th></th>\n",
       "      <th colspan=\"8\" halign=\"left\">TweetId</th>\n",
       "    </tr>\n",
       "    <tr>\n",
       "      <th></th>\n",
       "      <th>count</th>\n",
       "      <th>mean</th>\n",
       "      <th>std</th>\n",
       "      <th>min</th>\n",
       "      <th>25%</th>\n",
       "      <th>50%</th>\n",
       "      <th>75%</th>\n",
       "      <th>max</th>\n",
       "    </tr>\n",
       "    <tr>\n",
       "      <th>Label</th>\n",
       "      <th></th>\n",
       "      <th></th>\n",
       "      <th></th>\n",
       "      <th></th>\n",
       "      <th></th>\n",
       "      <th></th>\n",
       "      <th></th>\n",
       "      <th></th>\n",
       "    </tr>\n",
       "  </thead>\n",
       "  <tbody>\n",
       "    <tr>\n",
       "      <th>Politics</th>\n",
       "      <td>3200.0</td>\n",
       "      <td>2.940386e+17</td>\n",
       "      <td>1.414010e+16</td>\n",
       "      <td>2.477269e+17</td>\n",
       "      <td>2.885772e+17</td>\n",
       "      <td>3.005219e+17</td>\n",
       "      <td>3.042852e+17</td>\n",
       "      <td>3.068234e+17</td>\n",
       "    </tr>\n",
       "    <tr>\n",
       "      <th>Sports</th>\n",
       "      <td>3325.0</td>\n",
       "      <td>2.835879e+17</td>\n",
       "      <td>7.027798e+16</td>\n",
       "      <td>2.390931e+10</td>\n",
       "      <td>2.998319e+17</td>\n",
       "      <td>3.043017e+17</td>\n",
       "      <td>3.059188e+17</td>\n",
       "      <td>3.068341e+17</td>\n",
       "    </tr>\n",
       "  </tbody>\n",
       "</table>\n",
       "</div>"
      ],
      "text/plain": [
       "         TweetId                                                          \\\n",
       "           count          mean           std           min           25%   \n",
       "Label                                                                      \n",
       "Politics  3200.0  2.940386e+17  1.414010e+16  2.477269e+17  2.885772e+17   \n",
       "Sports    3325.0  2.835879e+17  7.027798e+16  2.390931e+10  2.998319e+17   \n",
       "\n",
       "                                                    \n",
       "                   50%           75%           max  \n",
       "Label                                               \n",
       "Politics  3.005219e+17  3.042852e+17  3.068234e+17  \n",
       "Sports    3.043017e+17  3.059188e+17  3.068341e+17  "
      ]
     },
     "execution_count": 6,
     "metadata": {},
     "output_type": "execute_result"
    }
   ],
   "source": [
    "train_df.groupby(['Label']).describe()\n"
   ]
  },
  {
   "cell_type": "code",
   "execution_count": 7,
   "id": "df9a0d95",
   "metadata": {},
   "outputs": [
    {
     "data": {
      "text/html": [
       "<div>\n",
       "<style scoped>\n",
       "    .dataframe tbody tr th:only-of-type {\n",
       "        vertical-align: middle;\n",
       "    }\n",
       "\n",
       "    .dataframe tbody tr th {\n",
       "        vertical-align: top;\n",
       "    }\n",
       "\n",
       "    .dataframe thead th {\n",
       "        text-align: right;\n",
       "    }\n",
       "</style>\n",
       "<table border=\"1\" class=\"dataframe\">\n",
       "  <thead>\n",
       "    <tr style=\"text-align: right;\">\n",
       "      <th></th>\n",
       "      <th>TweetId</th>\n",
       "      <th>Label</th>\n",
       "      <th>TweetText</th>\n",
       "      <th>length</th>\n",
       "    </tr>\n",
       "  </thead>\n",
       "  <tbody>\n",
       "    <tr>\n",
       "      <th>0</th>\n",
       "      <td>304271250237304833</td>\n",
       "      <td>Politics</td>\n",
       "      <td>'#SecKerry: The value of the @StateDept and @U...</td>\n",
       "      <td>125</td>\n",
       "    </tr>\n",
       "    <tr>\n",
       "      <th>1</th>\n",
       "      <td>304834304222064640</td>\n",
       "      <td>Politics</td>\n",
       "      <td>'@rraina1481 I fear so'</td>\n",
       "      <td>23</td>\n",
       "    </tr>\n",
       "    <tr>\n",
       "      <th>2</th>\n",
       "      <td>303568995880144898</td>\n",
       "      <td>Sports</td>\n",
       "      <td>'Watch video highlights of the #wwc13 final be...</td>\n",
       "      <td>102</td>\n",
       "    </tr>\n",
       "    <tr>\n",
       "      <th>3</th>\n",
       "      <td>304366580664528896</td>\n",
       "      <td>Sports</td>\n",
       "      <td>'RT @chelscanlan: At Nitro Circus at #AlbertPa...</td>\n",
       "      <td>121</td>\n",
       "    </tr>\n",
       "    <tr>\n",
       "      <th>4</th>\n",
       "      <td>296770931098009601</td>\n",
       "      <td>Sports</td>\n",
       "      <td>'@cricketfox Always a good thing. Thanks for t...</td>\n",
       "      <td>62</td>\n",
       "    </tr>\n",
       "  </tbody>\n",
       "</table>\n",
       "</div>"
      ],
      "text/plain": [
       "              TweetId     Label  \\\n",
       "0  304271250237304833  Politics   \n",
       "1  304834304222064640  Politics   \n",
       "2  303568995880144898    Sports   \n",
       "3  304366580664528896    Sports   \n",
       "4  296770931098009601    Sports   \n",
       "\n",
       "                                           TweetText  length  \n",
       "0  '#SecKerry: The value of the @StateDept and @U...     125  \n",
       "1                            '@rraina1481 I fear so'      23  \n",
       "2  'Watch video highlights of the #wwc13 final be...     102  \n",
       "3  'RT @chelscanlan: At Nitro Circus at #AlbertPa...     121  \n",
       "4  '@cricketfox Always a good thing. Thanks for t...      62  "
      ]
     },
     "execution_count": 7,
     "metadata": {},
     "output_type": "execute_result"
    }
   ],
   "source": [
    "train_df[\"length\"] = train_df[\"TweetText\"].apply(len)\n",
    "train_df.head()"
   ]
  },
  {
   "cell_type": "code",
   "execution_count": 8,
   "id": "668d46c8",
   "metadata": {},
   "outputs": [
    {
     "data": {
      "text/plain": [
       "TweetId      0\n",
       "Label        0\n",
       "TweetText    0\n",
       "length       0\n",
       "dtype: int64"
      ]
     },
     "execution_count": 8,
     "metadata": {},
     "output_type": "execute_result"
    }
   ],
   "source": [
    "#Null values\n",
    "train_df.isna().sum()"
   ]
  },
  {
   "cell_type": "code",
   "execution_count": 9,
   "id": "f6b9e419",
   "metadata": {},
   "outputs": [
    {
     "name": "stderr",
     "output_type": "stream",
     "text": [
      "C:\\Users\\lenovo\\AppData\\Local\\Temp\\ipykernel_2244\\1333403575.py:2: UserWarning: \n",
      "\n",
      "`distplot` is a deprecated function and will be removed in seaborn v0.14.0.\n",
      "\n",
      "Please adapt your code to use either `displot` (a figure-level function with\n",
      "similar flexibility) or `histplot` (an axes-level function for histograms).\n",
      "\n",
      "For a guide to updating your code to use the new functions, please see\n",
      "https://gist.github.com/mwaskom/de44147ed2974457ad6372750bbe5751\n",
      "\n",
      "  sns.distplot(train_df[\"length\"] , bins = 50)\n"
     ]
    },
    {
     "data": {
      "text/plain": [
       "<Axes: xlabel='length', ylabel='Density'>"
      ]
     },
     "execution_count": 9,
     "metadata": {},
     "output_type": "execute_result"
    },
    {
     "data": {
      "image/png": "[encoded data removed]",
      "text/plain": [
       "<Figure size 640x480 with 1 Axes>"
      ]
     },
     "metadata": {},
     "output_type": "display_data"
    }
   ],
   "source": [
    "# create a distribution plot (histogram) of the length column in the train_df DataFrame using the Seaborn library (sns).\n",
    "sns.distplot(train_df[\"length\"] , bins = 50)"
   ]
  },
  {
   "cell_type": "code",
   "execution_count": 10,
   "id": "8853f402",
   "metadata": {},
   "outputs": [],
   "source": [
    "import seaborn as sns\n"
   ]
  },
  {
   "cell_type": "code",
   "execution_count": 11,
   "id": "66e1ceed",
   "metadata": {},
   "outputs": [
    {
     "data": {
      "text/plain": [
       "count    6525.000000\n",
       "mean      110.346820\n",
       "std        32.234194\n",
       "min         5.000000\n",
       "25%        91.000000\n",
       "50%       119.000000\n",
       "75%       138.000000\n",
       "max       167.000000\n",
       "Name: length, dtype: float64"
      ]
     },
     "execution_count": 11,
     "metadata": {},
     "output_type": "execute_result"
    }
   ],
   "source": [
    "train_df[\"length\"].describe()"
   ]
  },
  {
   "cell_type": "code",
   "execution_count": 12,
   "id": "872fdcf1",
   "metadata": {},
   "outputs": [
    {
     "data": {
      "text/plain": [
       "array([<Axes: title={'center': 'Politics'}>,\n",
       "       <Axes: title={'center': 'Sports'}>], dtype=object)"
      ]
     },
     "execution_count": 12,
     "metadata": {},
     "output_type": "execute_result"
    },
    {
     "data": {
      "image/png": "[encoded data removed]",
      "text/plain": [
       "<Figure size 1200x400 with 2 Axes>"
      ]
     },
     "metadata": {},
     "output_type": "display_data"
    }
   ],
   "source": [
    "train_df.hist(column=\"length\" , by=\"Label\", bins = 60 ,figsize= (12,4))"
   ]
  },
  {
   "cell_type": "markdown",
   "id": "eff4d2c5",
   "metadata": {},
   "source": [
    "# Text Preprocessing\n",
    "\n",
    "Text preprocessing refers to the process of cleaning and transforming raw text data into a format that can be easily analyzed by machine learning algorithms. This process involves a series of steps, including:\n",
    "\n",
    "\n",
    "1-Tokenization: splitting the text into individual words, also known as tokens.\n",
    "Stop word removal: removing common words that do not add meaning to the text, such as \"the\", \"and\", and \"is\". \n",
    "\n",
    "2-Stemming or lemmatization: reducing each word to its base or root form, so that similar words are treated the same way, for example, \"running\", \"runs\", and \"ran\" would all be reduced to \"run\". \n",
    "\n",
    "3-Vectorization: converting text into a numerical representation, such as a bag-of-words or TF-IDF representation."
   ]
  },
  {
   "cell_type": "code",
   "execution_count": 36,
   "id": "a615fc4b",
   "metadata": {},
   "outputs": [],
   "source": [
    "import re\n",
    "import nltk\n",
    "from nltk.corpus import stopwords\n",
    "from nltk.tokenize import RegexpTokenizer\n",
    "\n",
    "def preprocess(text):\n",
    "    # remove punctuation\n",
    "    text = re.sub(r'[^\\w\\s]', '', text)\n",
    "\n",
    "    # tokenize using custom regular expression to preserve words with numeric characters\n",
    "    tokenizer = RegexpTokenizer(r'\\b(?:\\d+\\w+|\\w+\\d+|\\w+)\\b')\n",
    "    tokens = tokenizer.tokenize(text)\n",
    "\n",
    "    # remove stopwords\n",
    "    stop_words = set(stopwords.words('english'))\n",
    "    tokens = [token for token in tokens if token.lower() not in stop_words]\n",
    "\n",
    "    # stem\n",
    "    stemmer = nltk.PorterStemmer()\n",
    "    tokens = [stemmer.stem(token) for token in tokens]\n",
    "\n",
    "    # remove numeric characters\n",
    "    tokens = [re.sub(r'\\d', '', token) for token in tokens]\n",
    "\n",
    "    # join tokens back into a string\n",
    "    text = ' '.join(tokens)\n",
    "\n",
    "    return text\n"
   ]
  },
  {
   "cell_type": "code",
   "execution_count": 51,
   "id": "12821e35",
   "metadata": {},
   "outputs": [],
   "source": [
    "# preprocess the tweet text\n",
    "train_df['TweetText'] = train_df['TweetText'].apply(preprocess)\n",
    "test_df['TweetText'] = test_df['TweetText'].apply(preprocess)\n"
   ]
  },
  {
   "cell_type": "code",
   "execution_count": 52,
   "id": "91a6b622",
   "metadata": {},
   "outputs": [
    {
     "data": {
      "text/html": [
       "<div>\n",
       "<style scoped>\n",
       "    .dataframe tbody tr th:only-of-type {\n",
       "        vertical-align: middle;\n",
       "    }\n",
       "\n",
       "    .dataframe tbody tr th {\n",
       "        vertical-align: top;\n",
       "    }\n",
       "\n",
       "    .dataframe thead th {\n",
       "        text-align: right;\n",
       "    }\n",
       "</style>\n",
       "<table border=\"1\" class=\"dataframe\">\n",
       "  <thead>\n",
       "    <tr style=\"text-align: right;\">\n",
       "      <th></th>\n",
       "      <th>TweetId</th>\n",
       "      <th>Label</th>\n",
       "      <th>TweetText</th>\n",
       "      <th>length</th>\n",
       "    </tr>\n",
       "  </thead>\n",
       "  <tbody>\n",
       "    <tr>\n",
       "      <th>0</th>\n",
       "      <td>304271250237304833</td>\n",
       "      <td>Politics</td>\n",
       "      <td>seckerri valu statedept usaid measur dollar te...</td>\n",
       "      <td>125</td>\n",
       "    </tr>\n",
       "    <tr>\n",
       "      <th>1</th>\n",
       "      <td>304834304222064640</td>\n",
       "      <td>Politics</td>\n",
       "      <td>rraina fear</td>\n",
       "      <td>23</td>\n",
       "    </tr>\n",
       "    <tr>\n",
       "      <th>2</th>\n",
       "      <td>303568995880144898</td>\n",
       "      <td>Sports</td>\n",
       "      <td>watch video highlight wwc final australia west...</td>\n",
       "      <td>102</td>\n",
       "    </tr>\n",
       "    <tr>\n",
       "      <th>3</th>\n",
       "      <td>304366580664528896</td>\n",
       "      <td>Sports</td>\n",
       "      <td>rt chelscanlan nitro circu albertpark theymake...</td>\n",
       "      <td>121</td>\n",
       "    </tr>\n",
       "    <tr>\n",
       "      <th>4</th>\n",
       "      <td>296770931098009601</td>\n",
       "      <td>Sports</td>\n",
       "      <td>cricketfox alway good thing thank feedback</td>\n",
       "      <td>62</td>\n",
       "    </tr>\n",
       "    <tr>\n",
       "      <th>...</th>\n",
       "      <td>...</td>\n",
       "      <td>...</td>\n",
       "      <td>...</td>\n",
       "      <td>...</td>\n",
       "    </tr>\n",
       "    <tr>\n",
       "      <th>6520</th>\n",
       "      <td>296675082267410433</td>\n",
       "      <td>Politics</td>\n",
       "      <td>photo pm laid wreath martyr monument algier ht...</td>\n",
       "      <td>102</td>\n",
       "    </tr>\n",
       "    <tr>\n",
       "      <th>6521</th>\n",
       "      <td>306677536195231746</td>\n",
       "      <td>Sports</td>\n",
       "      <td>secret chennai pitch crumbl edg solid middl li...</td>\n",
       "      <td>128</td>\n",
       "    </tr>\n",
       "    <tr>\n",
       "      <th>6522</th>\n",
       "      <td>306451295307431937</td>\n",
       "      <td>Sports</td>\n",
       "      <td>alinabhutto isnt twitter either</td>\n",
       "      <td>39</td>\n",
       "    </tr>\n",
       "    <tr>\n",
       "      <th>6523</th>\n",
       "      <td>306088574221176832</td>\n",
       "      <td>Sports</td>\n",
       "      <td>england player would take dinner featur lukewr...</td>\n",
       "      <td>142</td>\n",
       "    </tr>\n",
       "    <tr>\n",
       "      <th>6524</th>\n",
       "      <td>277090953242759169</td>\n",
       "      <td>Politics</td>\n",
       "      <td>dmitri medvedev express condol famili friend c...</td>\n",
       "      <td>117</td>\n",
       "    </tr>\n",
       "  </tbody>\n",
       "</table>\n",
       "<p>6525 rows × 4 columns</p>\n",
       "</div>"
      ],
      "text/plain": [
       "                 TweetId     Label  \\\n",
       "0     304271250237304833  Politics   \n",
       "1     304834304222064640  Politics   \n",
       "2     303568995880144898    Sports   \n",
       "3     304366580664528896    Sports   \n",
       "4     296770931098009601    Sports   \n",
       "...                  ...       ...   \n",
       "6520  296675082267410433  Politics   \n",
       "6521  306677536195231746    Sports   \n",
       "6522  306451295307431937    Sports   \n",
       "6523  306088574221176832    Sports   \n",
       "6524  277090953242759169  Politics   \n",
       "\n",
       "                                              TweetText  length  \n",
       "0     seckerri valu statedept usaid measur dollar te...     125  \n",
       "1                                           rraina fear      23  \n",
       "2     watch video highlight wwc final australia west...     102  \n",
       "3     rt chelscanlan nitro circu albertpark theymake...     121  \n",
       "4            cricketfox alway good thing thank feedback      62  \n",
       "...                                                 ...     ...  \n",
       "6520  photo pm laid wreath martyr monument algier ht...     102  \n",
       "6521  secret chennai pitch crumbl edg solid middl li...     128  \n",
       "6522                    alinabhutto isnt twitter either      39  \n",
       "6523  england player would take dinner featur lukewr...     142  \n",
       "6524  dmitri medvedev express condol famili friend c...     117  \n",
       "\n",
       "[6525 rows x 4 columns]"
      ]
     },
     "execution_count": 52,
     "metadata": {},
     "output_type": "execute_result"
    }
   ],
   "source": [
    "train_df"
   ]
  },
  {
   "cell_type": "code",
   "execution_count": 53,
   "id": "0ab866a3",
   "metadata": {},
   "outputs": [
    {
     "data": {
      "text/html": [
       "<div>\n",
       "<style scoped>\n",
       "    .dataframe tbody tr th:only-of-type {\n",
       "        vertical-align: middle;\n",
       "    }\n",
       "\n",
       "    .dataframe tbody tr th {\n",
       "        vertical-align: top;\n",
       "    }\n",
       "\n",
       "    .dataframe thead th {\n",
       "        text-align: right;\n",
       "    }\n",
       "</style>\n",
       "<table border=\"1\" class=\"dataframe\">\n",
       "  <thead>\n",
       "    <tr style=\"text-align: right;\">\n",
       "      <th></th>\n",
       "      <th>TweetId</th>\n",
       "      <th>TweetText</th>\n",
       "    </tr>\n",
       "  </thead>\n",
       "  <tbody>\n",
       "    <tr>\n",
       "      <th>0</th>\n",
       "      <td>306486520121012224</td>\n",
       "      <td>home side threaten mason bennett get end long ...</td>\n",
       "    </tr>\n",
       "    <tr>\n",
       "      <th>1</th>\n",
       "      <td>286353402605228032</td>\n",
       "      <td>mrbrown aulia thx ask see httptcoygjepjkf deri...</td>\n",
       "    </tr>\n",
       "    <tr>\n",
       "      <th>2</th>\n",
       "      <td>289531046037438464</td>\n",
       "      <td>sochi construct along shore black sea httptcod...</td>\n",
       "    </tr>\n",
       "    <tr>\n",
       "      <th>3</th>\n",
       "      <td>306451661403062273</td>\n",
       "      <td>seckerryu remark meet foreign minist westerwel...</td>\n",
       "    </tr>\n",
       "    <tr>\n",
       "      <th>4</th>\n",
       "      <td>297941800658812928</td>\n",
       "      <td>iplauct begun ricki pont first player go hamme...</td>\n",
       "    </tr>\n",
       "    <tr>\n",
       "      <th>...</th>\n",
       "      <td>...</td>\n",
       "      <td>...</td>\n",
       "    </tr>\n",
       "    <tr>\n",
       "      <th>2605</th>\n",
       "      <td>282023761044189184</td>\n",
       "      <td>qualifi elimin game play chidambaram stadium u...</td>\n",
       "    </tr>\n",
       "    <tr>\n",
       "      <th>2606</th>\n",
       "      <td>303879735006601216</td>\n",
       "      <td>reesedward hi edward peacekeep mission guineab...</td>\n",
       "    </tr>\n",
       "    <tr>\n",
       "      <th>2607</th>\n",
       "      <td>297956846046703616</td>\n",
       "      <td>perera sunrisersipl first ipl purcha iplauct</td>\n",
       "    </tr>\n",
       "    <tr>\n",
       "      <th>2608</th>\n",
       "      <td>304265049537658880</td>\n",
       "      <td>seckerri thank senat timkain reproberthurt uva...</td>\n",
       "    </tr>\n",
       "    <tr>\n",
       "      <th>2609</th>\n",
       "      <td>306430391928115200</td>\n",
       "      <td>pictur offici pinterest account bill shankli l...</td>\n",
       "    </tr>\n",
       "  </tbody>\n",
       "</table>\n",
       "<p>2610 rows × 2 columns</p>\n",
       "</div>"
      ],
      "text/plain": [
       "                 TweetId                                          TweetText\n",
       "0     306486520121012224  home side threaten mason bennett get end long ...\n",
       "1     286353402605228032  mrbrown aulia thx ask see httptcoygjepjkf deri...\n",
       "2     289531046037438464  sochi construct along shore black sea httptcod...\n",
       "3     306451661403062273  seckerryu remark meet foreign minist westerwel...\n",
       "4     297941800658812928  iplauct begun ricki pont first player go hamme...\n",
       "...                  ...                                                ...\n",
       "2605  282023761044189184  qualifi elimin game play chidambaram stadium u...\n",
       "2606  303879735006601216  reesedward hi edward peacekeep mission guineab...\n",
       "2607  297956846046703616       perera sunrisersipl first ipl purcha iplauct\n",
       "2608  304265049537658880  seckerri thank senat timkain reproberthurt uva...\n",
       "2609  306430391928115200  pictur offici pinterest account bill shankli l...\n",
       "\n",
       "[2610 rows x 2 columns]"
      ]
     },
     "execution_count": 53,
     "metadata": {},
     "output_type": "execute_result"
    }
   ],
   "source": [
    "test_df"
   ]
  },
  {
   "cell_type": "code",
   "execution_count": null,
   "id": "dc4e5793",
   "metadata": {},
   "outputs": [],
   "source": []
  },
  {
   "cell_type": "code",
   "execution_count": 54,
   "id": "615f6440",
   "metadata": {},
   "outputs": [],
   "source": [
    "\n",
    "# split the data into training and validation sets\n",
    "X_train, X_val, y_train, y_val = train_test_split(train_df['TweetText'], train_df['Label'], test_size=0.2, random_state=42)\n"
   ]
  },
  {
   "cell_type": "markdown",
   "id": "bca7f907",
   "metadata": {},
   "source": [
    "# Feature Extraction"
   ]
  },
  {
   "cell_type": "markdown",
   "id": "24ba0b50",
   "metadata": {},
   "source": [
    "Feature extraction involves transforming text data into a numerical representation that can be understood by machine learning algorithms. This can include techniques such as bag-of-words, term frequency-inverse document frequency (TF-IDF), and word embeddings.\n",
    "\n",
    "The goal of feature extraction is to identify the most relevant features of the data that will help the machine learning model to make accurate predictions. By reducing the dimensionality of the input data and focusing on the most important features, the model can be more efficient and effective in its predictions."
   ]
  },
  {
   "cell_type": "markdown",
   "id": "7c6a417d",
   "metadata": {},
   "source": [
    "#### ------------------------------------------------------------------------------------------------------------------------------------------------------------------------ ####\n",
    "   <h5 align='center'>In this process we need to  : </h5>\n",
    "\n",
    "-Create a TfidfVectorizer object with specified parameters  \n",
    "\n",
    "-Fit the vectorizer on the training data and transform it  \n",
    "\n",
    "-Transform the validation and test data using the fitted vectorizer"
   ]
  },
  {
   "cell_type": "code",
   "execution_count": 55,
   "id": "85b6ecc5",
   "metadata": {},
   "outputs": [],
   "source": [
    "# create a TfidfVectorizer object with specified parameters\n",
    "vectorizer = TfidfVectorizer(ngram_range=(1, 3), max_features=10000)\n",
    "\n",
    "# fit the vectorizer on the training data and transform it\n",
    "X_train1 = vectorizer.fit_transform(train_df['TweetText'])\n",
    "\n",
    "# transform the validation and test data using the fitted vectorizer\n",
    "X_val1 = vectorizer.transform(X_val)\n",
    "X_test1 = vectorizer.transform(test_df['TweetText'])"
   ]
  },
  {
   "cell_type": "markdown",
   "id": "eabdd800",
   "metadata": {},
   "source": [
    "# Model Training and Hyperparameter Tuning:"
   ]
  },
  {
   "cell_type": "markdown",
   "id": "532b20da",
   "metadata": {},
   "source": [
    "This process is very important , is consiste to create a model that learns from the data to generate predictions \n",
    "1- Create a pipeline for vecoriztion and classification"
   ]
  },
  {
   "cell_type": "code",
   "execution_count": 56,
   "id": "87e4acaa",
   "metadata": {},
   "outputs": [],
   "source": [
    "# create a pipeline for vectorization and classification\n",
    "pipeline = Pipeline([\n",
    "    ('vect', TfidfVectorizer(ngram_range=(1, 3), max_features=10000)),\n",
    "    ('tfidf', TfidfTransformer(use_idf=True)),\n",
    "    ('chi', SelectKBest(chi2, k=5000)),\n",
    "    ('clf', VotingClassifier([\n",
    "        ('nb', MultinomialNB(alpha=0.1)),\n",
    "        ('lr', LogisticRegression(C=10, max_iter=1000, random_state=42)),\n",
    "        ('rf', RandomForestClassifier(n_estimators=500, max_depth=5, random_state=42)),\n",
    "        ('svm', SVC(C=1, kernel='linear', probability=True, random_state=42))\n",
    "    ]))\n",
    "])\n"
   ]
  },
  {
   "cell_type": "code",
   "execution_count": 57,
   "id": "a8b67f2f",
   "metadata": {},
   "outputs": [
    {
     "data": {
      "text/html": [
       "<style>#sk-container-id-4 {color: black;background-color: white;}#sk-container-id-4 pre{padding: 0;}#sk-container-id-4 div.sk-toggleable {background-color: white;}#sk-container-id-4 label.sk-toggleable__label {cursor: pointer;display: block;width: 100%;margin-bottom: 0;padding: 0.3em;box-sizing: border-box;text-align: center;}#sk-container-id-4 label.sk-toggleable__label-arrow:before {content: \"▸\";float: left;margin-right: 0.25em;color: #696969;}#sk-container-id-4 label.sk-toggleable__label-arrow:hover:before {color: black;}#sk-container-id-4 div.sk-estimator:hover label.sk-toggleable__label-arrow:before {color: black;}#sk-container-id-4 div.sk-toggleable__content {max-height: 0;max-width: 0;overflow: hidden;text-align: left;background-color: #f0f8ff;}#sk-container-id-4 div.sk-toggleable__content pre {margin: 0.2em;color: black;border-radius: 0.25em;background-color: #f0f8ff;}#sk-container-id-4 input.sk-toggleable__control:checked~div.sk-toggleable__content {max-height: 200px;max-width: 100%;overflow: auto;}#sk-container-id-4 input.sk-toggleable__control:checked~label.sk-toggleable__label-arrow:before {content: \"▾\";}#sk-container-id-4 div.sk-estimator input.sk-toggleable__control:checked~label.sk-toggleable__label {background-color: #d4ebff;}#sk-container-id-4 div.sk-label input.sk-toggleable__control:checked~label.sk-toggleable__label {background-color: #d4ebff;}#sk-container-id-4 input.sk-hidden--visually {border: 0;clip: rect(1px 1px 1px 1px);clip: rect(1px, 1px, 1px, 1px);height: 1px;margin: -1px;overflow: hidden;padding: 0;position: absolute;width: 1px;}#sk-container-id-4 div.sk-estimator {font-family: monospace;background-color: #f0f8ff;border: 1px dotted black;border-radius: 0.25em;box-sizing: border-box;margin-bottom: 0.5em;}#sk-container-id-4 div.sk-estimator:hover {background-color: #d4ebff;}#sk-container-id-4 div.sk-parallel-item::after {content: \"\";width: 100%;border-bottom: 1px solid gray;flex-grow: 1;}#sk-container-id-4 div.sk-label:hover label.sk-toggleable__label {background-color: #d4ebff;}#sk-container-id-4 div.sk-serial::before {content: \"\";position: absolute;border-left: 1px solid gray;box-sizing: border-box;top: 0;bottom: 0;left: 50%;z-index: 0;}#sk-container-id-4 div.sk-serial {display: flex;flex-direction: column;align-items: center;background-color: white;padding-right: 0.2em;padding-left: 0.2em;position: relative;}#sk-container-id-4 div.sk-item {position: relative;z-index: 1;}#sk-container-id-4 div.sk-parallel {display: flex;align-items: stretch;justify-content: center;background-color: white;position: relative;}#sk-container-id-4 div.sk-item::before, #sk-container-id-4 div.sk-parallel-item::before {content: \"\";position: absolute;border-left: 1px solid gray;box-sizing: border-box;top: 0;bottom: 0;left: 50%;z-index: -1;}#sk-container-id-4 div.sk-parallel-item {display: flex;flex-direction: column;z-index: 1;position: relative;background-color: white;}#sk-container-id-4 div.sk-parallel-item:first-child::after {align-self: flex-end;width: 50%;}#sk-container-id-4 div.sk-parallel-item:last-child::after {align-self: flex-start;width: 50%;}#sk-container-id-4 div.sk-parallel-item:only-child::after {width: 0;}#sk-container-id-4 div.sk-dashed-wrapped {border: 1px dashed gray;margin: 0 0.4em 0.5em 0.4em;box-sizing: border-box;padding-bottom: 0.4em;background-color: white;}#sk-container-id-4 div.sk-label label {font-family: monospace;font-weight: bold;display: inline-block;line-height: 1.2em;}#sk-container-id-4 div.sk-label-container {text-align: center;}#sk-container-id-4 div.sk-container {/* jupyter's `normalize.less` sets `[hidden] { display: none; }` but bootstrap.min.css set `[hidden] { display: none !important; }` so we also need the `!important` here to be able to override the default hidden behavior on the sphinx rendered scikit-learn.org. See: https://github.com/scikit-learn/scikit-learn/issues/21755 */display: inline-block !important;position: relative;}#sk-container-id-4 div.sk-text-repr-fallback {display: none;}</style><div id=\"sk-container-id-4\" class=\"sk-top-container\"><div class=\"sk-text-repr-fallback\"><pre>Pipeline(steps=[(&#x27;vect&#x27;,\n",
       "                 TfidfVectorizer(max_features=10000, ngram_range=(1, 3))),\n",
       "                (&#x27;tfidf&#x27;, TfidfTransformer()),\n",
       "                (&#x27;chi&#x27;,\n",
       "                 SelectKBest(k=5000,\n",
       "                             score_func=&lt;function chi2 at 0x0000020D0AE12440&gt;)),\n",
       "                (&#x27;clf&#x27;,\n",
       "                 VotingClassifier(estimators=[(&#x27;nb&#x27;, MultinomialNB(alpha=0.1)),\n",
       "                                              (&#x27;lr&#x27;,\n",
       "                                               LogisticRegression(C=10,\n",
       "                                                                  max_iter=1000,\n",
       "                                                                  random_state=42)),\n",
       "                                              (&#x27;rf&#x27;,\n",
       "                                               RandomForestClassifier(max_depth=5,\n",
       "                                                                      n_estimators=500,\n",
       "                                                                      random_state=42)),\n",
       "                                              (&#x27;svm&#x27;,\n",
       "                                               SVC(C=1, kernel=&#x27;linear&#x27;,\n",
       "                                                   probability=True,\n",
       "                                                   random_state=42))]))])</pre><b>In a Jupyter environment, please rerun this cell to show the HTML representation or trust the notebook. <br />On GitHub, the HTML representation is unable to render, please try loading this page with nbviewer.org.</b></div><div class=\"sk-container\" hidden><div class=\"sk-item sk-dashed-wrapped\"><div class=\"sk-label-container\"><div class=\"sk-label sk-toggleable\"><input class=\"sk-toggleable__control sk-hidden--visually\" id=\"sk-estimator-id-28\" type=\"checkbox\" ><label for=\"sk-estimator-id-28\" class=\"sk-toggleable__label sk-toggleable__label-arrow\">Pipeline</label><div class=\"sk-toggleable__content\"><pre>Pipeline(steps=[(&#x27;vect&#x27;,\n",
       "                 TfidfVectorizer(max_features=10000, ngram_range=(1, 3))),\n",
       "                (&#x27;tfidf&#x27;, TfidfTransformer()),\n",
       "                (&#x27;chi&#x27;,\n",
       "                 SelectKBest(k=5000,\n",
       "                             score_func=&lt;function chi2 at 0x0000020D0AE12440&gt;)),\n",
       "                (&#x27;clf&#x27;,\n",
       "                 VotingClassifier(estimators=[(&#x27;nb&#x27;, MultinomialNB(alpha=0.1)),\n",
       "                                              (&#x27;lr&#x27;,\n",
       "                                               LogisticRegression(C=10,\n",
       "                                                                  max_iter=1000,\n",
       "                                                                  random_state=42)),\n",
       "                                              (&#x27;rf&#x27;,\n",
       "                                               RandomForestClassifier(max_depth=5,\n",
       "                                                                      n_estimators=500,\n",
       "                                                                      random_state=42)),\n",
       "                                              (&#x27;svm&#x27;,\n",
       "                                               SVC(C=1, kernel=&#x27;linear&#x27;,\n",
       "                                                   probability=True,\n",
       "                                                   random_state=42))]))])</pre></div></div></div><div class=\"sk-serial\"><div class=\"sk-item\"><div class=\"sk-estimator sk-toggleable\"><input class=\"sk-toggleable__control sk-hidden--visually\" id=\"sk-estimator-id-29\" type=\"checkbox\" ><label for=\"sk-estimator-id-29\" class=\"sk-toggleable__label sk-toggleable__label-arrow\">TfidfVectorizer</label><div class=\"sk-toggleable__content\"><pre>TfidfVectorizer(max_features=10000, ngram_range=(1, 3))</pre></div></div></div><div class=\"sk-item\"><div class=\"sk-estimator sk-toggleable\"><input class=\"sk-toggleable__control sk-hidden--visually\" id=\"sk-estimator-id-30\" type=\"checkbox\" ><label for=\"sk-estimator-id-30\" class=\"sk-toggleable__label sk-toggleable__label-arrow\">TfidfTransformer</label><div class=\"sk-toggleable__content\"><pre>TfidfTransformer()</pre></div></div></div><div class=\"sk-item\"><div class=\"sk-estimator sk-toggleable\"><input class=\"sk-toggleable__control sk-hidden--visually\" id=\"sk-estimator-id-31\" type=\"checkbox\" ><label for=\"sk-estimator-id-31\" class=\"sk-toggleable__label sk-toggleable__label-arrow\">SelectKBest</label><div class=\"sk-toggleable__content\"><pre>SelectKBest(k=5000, score_func=&lt;function chi2 at 0x0000020D0AE12440&gt;)</pre></div></div></div><div class=\"sk-item sk-dashed-wrapped\"><div class=\"sk-label-container\"><div class=\"sk-label sk-toggleable\"><input class=\"sk-toggleable__control sk-hidden--visually\" id=\"sk-estimator-id-32\" type=\"checkbox\" ><label for=\"sk-estimator-id-32\" class=\"sk-toggleable__label sk-toggleable__label-arrow\">clf: VotingClassifier</label><div class=\"sk-toggleable__content\"><pre>VotingClassifier(estimators=[(&#x27;nb&#x27;, MultinomialNB(alpha=0.1)),\n",
       "                             (&#x27;lr&#x27;,\n",
       "                              LogisticRegression(C=10, max_iter=1000,\n",
       "                                                 random_state=42)),\n",
       "                             (&#x27;rf&#x27;,\n",
       "                              RandomForestClassifier(max_depth=5,\n",
       "                                                     n_estimators=500,\n",
       "                                                     random_state=42)),\n",
       "                             (&#x27;svm&#x27;,\n",
       "                              SVC(C=1, kernel=&#x27;linear&#x27;, probability=True,\n",
       "                                  random_state=42))])</pre></div></div></div><div class=\"sk-parallel\"><div class=\"sk-parallel-item\"><div class=\"sk-item\"><div class=\"sk-label-container\"><div class=\"sk-label sk-toggleable\"><label>nb</label></div></div><div class=\"sk-serial\"><div class=\"sk-item\"><div class=\"sk-estimator sk-toggleable\"><input class=\"sk-toggleable__control sk-hidden--visually\" id=\"sk-estimator-id-33\" type=\"checkbox\" ><label for=\"sk-estimator-id-33\" class=\"sk-toggleable__label sk-toggleable__label-arrow\">MultinomialNB</label><div class=\"sk-toggleable__content\"><pre>MultinomialNB(alpha=0.1)</pre></div></div></div></div></div></div><div class=\"sk-parallel-item\"><div class=\"sk-item\"><div class=\"sk-label-container\"><div class=\"sk-label sk-toggleable\"><label>lr</label></div></div><div class=\"sk-serial\"><div class=\"sk-item\"><div class=\"sk-estimator sk-toggleable\"><input class=\"sk-toggleable__control sk-hidden--visually\" id=\"sk-estimator-id-34\" type=\"checkbox\" ><label for=\"sk-estimator-id-34\" class=\"sk-toggleable__label sk-toggleable__label-arrow\">LogisticRegression</label><div class=\"sk-toggleable__content\"><pre>LogisticRegression(C=10, max_iter=1000, random_state=42)</pre></div></div></div></div></div></div><div class=\"sk-parallel-item\"><div class=\"sk-item\"><div class=\"sk-label-container\"><div class=\"sk-label sk-toggleable\"><label>rf</label></div></div><div class=\"sk-serial\"><div class=\"sk-item\"><div class=\"sk-estimator sk-toggleable\"><input class=\"sk-toggleable__control sk-hidden--visually\" id=\"sk-estimator-id-35\" type=\"checkbox\" ><label for=\"sk-estimator-id-35\" class=\"sk-toggleable__label sk-toggleable__label-arrow\">RandomForestClassifier</label><div class=\"sk-toggleable__content\"><pre>RandomForestClassifier(max_depth=5, n_estimators=500, random_state=42)</pre></div></div></div></div></div></div><div class=\"sk-parallel-item\"><div class=\"sk-item\"><div class=\"sk-label-container\"><div class=\"sk-label sk-toggleable\"><label>svm</label></div></div><div class=\"sk-serial\"><div class=\"sk-item\"><div class=\"sk-estimator sk-toggleable\"><input class=\"sk-toggleable__control sk-hidden--visually\" id=\"sk-estimator-id-36\" type=\"checkbox\" ><label for=\"sk-estimator-id-36\" class=\"sk-toggleable__label sk-toggleable__label-arrow\">SVC</label><div class=\"sk-toggleable__content\"><pre>SVC(C=1, kernel=&#x27;linear&#x27;, probability=True, random_state=42)</pre></div></div></div></div></div></div></div></div></div></div></div></div>"
      ],
      "text/plain": [
       "Pipeline(steps=[('vect',\n",
       "                 TfidfVectorizer(max_features=10000, ngram_range=(1, 3))),\n",
       "                ('tfidf', TfidfTransformer()),\n",
       "                ('chi',\n",
       "                 SelectKBest(k=5000,\n",
       "                             score_func=<function chi2 at 0x0000020D0AE12440>)),\n",
       "                ('clf',\n",
       "                 VotingClassifier(estimators=[('nb', MultinomialNB(alpha=0.1)),\n",
       "                                              ('lr',\n",
       "                                               LogisticRegression(C=10,\n",
       "                                                                  max_iter=1000,\n",
       "                                                                  random_state=42)),\n",
       "                                              ('rf',\n",
       "                                               RandomForestClassifier(max_depth=5,\n",
       "                                                                      n_estimators=500,\n",
       "                                                                      random_state=42)),\n",
       "                                              ('svm',\n",
       "                                               SVC(C=1, kernel='linear',\n",
       "                                                   probability=True,\n",
       "                                                   random_state=42))]))])"
      ]
     },
     "execution_count": 57,
     "metadata": {},
     "output_type": "execute_result"
    }
   ],
   "source": [
    "# fit the pipeline on the training data\n",
    "pipeline.fit(X_train, y_train)\n"
   ]
  },
  {
   "cell_type": "code",
   "execution_count": 58,
   "id": "deff6d1d",
   "metadata": {},
   "outputs": [
    {
     "name": "stdout",
     "output_type": "stream",
     "text": [
      "Validation accuracy: 0.9517241379310345\n"
     ]
    }
   ],
   "source": [
    "# make predictions on the validation set and calculate accuracy\n",
    "y_pred = pipeline.predict(X_val)\n",
    "#Performance evaluation:\n",
    "acc = accuracy_score(y_val, y_pred)\n",
    "print('Validation accuracy:', acc)"
   ]
  },
  {
   "cell_type": "code",
   "execution_count": 59,
   "id": "a5a9bad7",
   "metadata": {},
   "outputs": [],
   "source": [
    "# make predictions on the test data\n",
    "test_pred = pipeline.predict(test_df['TweetText'])"
   ]
  },
  {
   "cell_type": "code",
   "execution_count": 60,
   "id": "687c0e32",
   "metadata": {},
   "outputs": [],
   "source": [
    "# create submission file\n",
    "submission_df = pd.DataFrame({'TweetId': test_df['TweetId'], 'Label': test_pred})\n",
    "submission_df.to_csv('submission1.csv', index=False)\n"
   ]
  },
  {
   "cell_type": "code",
   "execution_count": null,
   "id": "02bd49e7",
   "metadata": {},
   "outputs": [],
   "source": []
  }
 ],
 "metadata": {
  "kernelspec": {
   "display_name": "Python 3 (ipykernel)",
   "language": "python",
   "name": "python3"
  },
  "language_info": {
   "codemirror_mode": {
    "name": "ipython",
    "version": 3
   },
   "file_extension": ".py",
   "mimetype": "text/x-python",
   "name": "python",
   "nbconvert_exporter": "python",
   "pygments_lexer": "ipython3",
   "version": "3.10.5"
  }
 },
 "nbformat": 4,
 "nbformat_minor": 5
}
